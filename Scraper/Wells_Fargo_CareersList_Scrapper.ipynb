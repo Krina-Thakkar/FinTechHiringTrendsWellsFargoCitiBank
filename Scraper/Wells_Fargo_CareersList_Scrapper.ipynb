{
 "cells": [
  {
   "cell_type": "code",
   "execution_count": 1,
   "metadata": {},
   "outputs": [],
   "source": [
    "#import the desired packages\n",
    "\n",
    "from selenium import webdriver\n",
    "from selenium.webdriver.common.keys import Keys\n",
    "from bs4 import BeautifulSoup\n",
    "import re\n",
    "import time\n",
    "import csv"
   ]
  },
  {
   "cell_type": "code",
   "execution_count": 2,
   "metadata": {},
   "outputs": [],
   "source": [
    "#launch url\n",
    "url = \"https://www.wellsfargojobs.com/search-jobs\"\n",
    "\n",
    "# create a new Chrome session\n",
    "driver = webdriver.Chrome()\n",
    "driver.implicitly_wait(30)\n",
    "driver.get(url)\n",
    "\n",
    "#Click on the Accept button on the cookie consent banner\n",
    "cookie_button = driver.find_element_by_id('gdpr-button')\n",
    "cookie_button.click()"
   ]
  },
  {
   "cell_type": "code",
   "execution_count": 3,
   "metadata": {},
   "outputs": [],
   "source": [
    "#Create an empty list for the URLs\n",
    "url_list = []\n",
    "\n",
    "#Run the loop for number of pages in the careers section\n",
    "for page in range(1,173):\n",
    "    soup_level1=BeautifulSoup(driver.page_source, 'lxml') #Find the current page source\n",
    "    \n",
    "    #iterate through the list of jobs on each of page\n",
    "    for link in soup_level1.find_all( 'a', href=re.compile(\"/job/*\")):\n",
    "        url_list.append(link.get('href'))\n",
    "    \n",
    "    #Find and click on the next button after each list is iterated\n",
    "    next_button = driver.find_element_by_xpath(\"//a[@class ='next']\")\n",
    "    next_button.click()\n",
    "    time.sleep(10)\n",
    "    \n",
    "driver.quit() # close the open browser session"
   ]
  },
  {
   "cell_type": "code",
   "execution_count": 7,
   "metadata": {},
   "outputs": [],
   "source": [
    "with open('wellsfargo_jobs.csv', mode='w') as csv_file:  #Create a new csv file\n",
    "    fieldnames = ['job_url', 'title', 'job_id', 'location', 'description'] #Define the fields \n",
    "    writer = csv.DictWriter(csv_file, fieldnames=fieldnames)\n",
    "    writer.writeheader()\n",
    "    \n",
    "    #Iterate through each of the job urls\n",
    "    for job_url in url_list:\n",
    "        company_url = \"https://www.wellsfargojobs.com\"\n",
    "        visit_url = company_url + job_url\n",
    "        driver = webdriver.Chrome()\n",
    "        driver.get(visit_url)\n",
    "         \n",
    "        soup = BeautifulSoup(driver.page_source, 'lxml') #Find the current page source\n",
    "        \n",
    "        #Find the desired fields\n",
    "        title = soup.find('h1', itemprop = True)\n",
    "        job_id = soup.find('span', {'class':'job-id job-info'})\n",
    "        location = soup.find_all('span', {'class':'job-info'})\n",
    "        desc = soup.find('div', {'class':'ats-description'})\n",
    "        \n",
    "        #Write each row to the csv file\n",
    "        writer.writerow({'job_url':visit_url, 'title':title.get_text(), 'job_id':job_id.get_text(), 'location':location[1].text, 'description':desc.get_text()})\n",
    "        driver.quit()   #Close the open browser session"
   ]
  }
 ],
 "metadata": {
  "kernelspec": {
   "display_name": "Python 3",
   "language": "python",
   "name": "python3"
  },
  "language_info": {
   "codemirror_mode": {
    "name": "ipython",
    "version": 3
   },
   "file_extension": ".py",
   "mimetype": "text/x-python",
   "name": "python",
   "nbconvert_exporter": "python",
   "pygments_lexer": "ipython3",
   "version": "3.7.1"
  }
 },
 "nbformat": 4,
 "nbformat_minor": 2
}
